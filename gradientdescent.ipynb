{
  "nbformat": 4,
  "nbformat_minor": 0,
  "metadata": {
    "colab": {
      "provenance": []
    },
    "kernelspec": {
      "name": "python3",
      "display_name": "Python 3"
    },
    "language_info": {
      "name": "python"
    }
  },
  "cells": [
    {
      "cell_type": "code",
      "execution_count": 1,
      "metadata": {
        "id": "ClaPhCqwsFZI"
      },
      "outputs": [],
      "source": [
        "from sympy import Symbol, solve"
      ]
    },
    {
      "cell_type": "code",
      "source": [
        "def loss_function(a, b, c, d, x):\n",
        "    #Calculates the mean squared error loss for a cubic equation\n",
        "    return (a*x**3 + b*x**2 + c*x + d) ** 2"
      ],
      "metadata": {
        "id": "E0lK8GaCqegy"
      },
      "execution_count": 2,
      "outputs": []
    },
    {
      "cell_type": "code",
      "source": [
        "def solve_cubic_sgd(a, b, c, d, learning_rate=0.001, num_iterations=10000):\n",
        "\n",
        "    #Attempts to solve a cubic equation using gradient descent on its loss.\n",
        "\n",
        "    #Uses the gradient of the cubic function (not squared loss) for simplicity.\n",
        "\n",
        "    #Includes gradient clipping and early stopping to prevent overflow.\n",
        "\n",
        "    x = 0.0  # Initial guess\n",
        "    max_grad = 1e6  # Clip gradient to prevent exploding values\n",
        "\n",
        "    for i in range(num_iterations):\n",
        "        gradient = 3 * a * x**2 + 2 * b * x + c  # derivative of f(x) = ax^3 + bx^2 + cx + d\n",
        "        gradient = max(min(gradient, max_grad), -max_grad)  # Gradient clipping\n",
        "\n",
        "        prev_x = x\n",
        "        x -= learning_rate * gradient\n",
        "\n",
        "        # Early stopping if x is diverging\n",
        "        if abs(x) > 1e10:\n",
        "            print(f\"Stopped early at iteration {i} due to divergence. Last x = {prev_x}\")\n",
        "            return prev_x\n",
        "\n",
        "        # Optional: early stop if gradient is very small (convergence)\n",
        "        if abs(gradient) < 1e-8:\n",
        "            break\n",
        "\n",
        "    return x\n",
        "\n"
      ],
      "metadata": {
        "id": "dm2KbRVWqjUO"
      },
      "execution_count": 10,
      "outputs": []
    },
    {
      "cell_type": "code",
      "source": [
        "def solve_cubic_sympy(a, b, c, d):\n",
        "\n",
        "    #Solves a cubic equation using SymPy library.\n",
        "\n",
        "    #Args:\n",
        "     #   a: The coefficient of the x^3 term (int or float).\n",
        "     #  b: The coefficient of the x^2 term (int or float).\n",
        "     #   c: The coefficient of the x term (int or float).\n",
        "     #   d: The constant term (int or float).\n",
        "\n",
        "    #Returns:\n",
        "     #   A list of symbolic solutions for x.\n",
        "\n",
        "    x = Symbol('x')\n",
        "    equation = a*x**3 + b*x**2 + c*x + d\n",
        "    solutions = solve(equation, x)\n",
        "    return solutions"
      ],
      "metadata": {
        "id": "fFqAUauMqoRI"
      },
      "execution_count": 11,
      "outputs": []
    },
    {
      "cell_type": "code",
      "source": [
        "# Example usage (SGD approach might not find all solutions)\n",
        "a = int(input(\"Enter the coefficient of x^3: \"))\n",
        "b = int(input(\"Enter the coefficient of x^2: \"))\n",
        "c = int(input(\"Enter the coefficient of x: \"))\n",
        "d = int(input(\"Enter the constant term: \"))\n"
      ],
      "metadata": {
        "colab": {
          "base_uri": "https://localhost:8080/"
        },
        "id": "EoKLgExJq19_",
        "outputId": "b9495556-ced3-4bbc-c302-28e820e9d74c"
      },
      "execution_count": 15,
      "outputs": [
        {
          "name": "stdout",
          "output_type": "stream",
          "text": [
            "Enter the coefficient of x^3: 3\n",
            "Enter the coefficient of x^2: 2\n",
            "Enter the coefficient of x: 1\n",
            "Enter the constant term: 1\n"
          ]
        }
      ]
    },
    {
      "cell_type": "code",
      "source": [
        "\n",
        "solution_sgd = solve_cubic_sgd(a, b, c, d)\n",
        "print(\"SGD Solution (might not be exact):\", solution_sgd)"
      ],
      "metadata": {
        "colab": {
          "base_uri": "https://localhost:8080/"
        },
        "id": "DK0F9ltuq4Eu",
        "outputId": "b192c878-7af9-4bb6-dddf-0480d44d23dc"
      },
      "execution_count": 16,
      "outputs": [
        {
          "output_type": "stream",
          "name": "stdout",
          "text": [
            "SGD Solution (might not be exact): -8965447.600079808\n"
          ]
        }
      ]
    },
    {
      "cell_type": "code",
      "source": [
        "solutions_sympy = solve_cubic_sympy(a, b, c, d)\n",
        "print(\"SymPy Solutions:\", solutions_sympy)"
      ],
      "metadata": {
        "colab": {
          "base_uri": "https://localhost:8080/"
        },
        "id": "2yPBVKFEsEaY",
        "outputId": "57bb6af3-ac6e-47bc-9a47-c737d98dd135"
      },
      "execution_count": 17,
      "outputs": [
        {
          "output_type": "stream",
          "name": "stdout",
          "text": [
            "SymPy Solutions: [-2/9 + 5/(27*(-1/2 - sqrt(3)*I/2)*(205/54 + 5*sqrt(21)/6)**(1/3)) - (-1/2 - sqrt(3)*I/2)*(205/54 + 5*sqrt(21)/6)**(1/3)/3, -2/9 - (-1/2 + sqrt(3)*I/2)*(205/54 + 5*sqrt(21)/6)**(1/3)/3 + 5/(27*(-1/2 + sqrt(3)*I/2)*(205/54 + 5*sqrt(21)/6)**(1/3)), -(205/54 + 5*sqrt(21)/6)**(1/3)/3 - 2/9 + 5/(27*(205/54 + 5*sqrt(21)/6)**(1/3))]\n"
          ]
        }
      ]
    }
  ]
}